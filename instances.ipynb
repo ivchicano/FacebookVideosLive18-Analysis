{
 "cells": [
  {
   "cell_type": "code",
   "execution_count": null,
   "metadata": {},
   "outputs": [],
   "source": [
    "import pandas as pd\n",
    "import numpy as np\n",
    "import uuid\n",
    "\n",
    "june_july_dataset_path = 'data/June and July dataset/'\n",
    "jan_feb_dataset_path = 'data/January_February_dataset/'"
   ]
  },
  {
   "cell_type": "code",
   "execution_count": null,
   "metadata": {},
   "outputs": [],
   "source": [
    "# Load the data\n",
    "viewers_by_fetch_part1 = pd.read_json(june_july_dataset_path + 'Viewers_by_fetch_part1.json', lines=True, dtype={'video': 'object', 'viewers_count': 'int32'})\n",
    "viewers_by_fetch_part2 = pd.read_json(june_july_dataset_path + 'viewers_by_fetch_part2.json', lines=True, dtype={'video': 'object', 'viewers_count': 'int32'})\n",
    "jan_viewers_by_fetch = pd.read_json(jan_feb_dataset_path + 'viewers_by_fetch_period1and2.json', lines=True, dtype={'video': 'object', 'viewers_count': 'int32'})\n",
    "viewers_by_fetch = pd.concat([viewers_by_fetch_part1, viewers_by_fetch_part2, jan_viewers_by_fetch], ignore_index=True)\n",
    "del viewers_by_fetch_part1, viewers_by_fetch_part2, jan_viewers_by_fetch\n",
    "\n",
    "# Convert 'video' column\n",
    "viewers_by_fetch[\"video\"] = viewers_by_fetch[\"video\"].apply(lambda x: x['$oid'] if isinstance(x, dict) else x)\n",
    "\n",
    "# Convert 'refresh_time' column to datetime\n",
    "viewers_by_fetch[\"refresh_time\"] = pd.to_datetime(viewers_by_fetch[\"refresh_time\"])\n",
    "\n",
    "# Optimize memory usage\n",
    "viewers_by_fetch['viewers_count'] = pd.to_numeric(viewers_by_fetch['viewers_count'], downcast='unsigned')\n",
    "viewers_by_fetch['_id'] = viewers_by_fetch['_id'].apply(lambda x: x['$oid'] if isinstance(x, dict) else x)\n",
    "viewers_by_fetch['_id'] = viewers_by_fetch['_id'].astype('category')\n",
    "viewers_by_fetch['video'] = viewers_by_fetch['video'].astype('category')\n",
    "\n",
    "display(viewers_by_fetch.info(memory_usage='deep'))"
   ]
  },
  {
   "cell_type": "code",
   "execution_count": 5,
   "metadata": {},
   "outputs": [
    {
     "name": "stderr",
     "output_type": "stream",
     "text": [
      "C:\\Users\\admin2\\AppData\\Local\\Temp\\ipykernel_33832\\3749116294.py:2: FutureWarning: The default of observed=False is deprecated and will be changed to True in a future version of pandas. Pass observed=False to retain current behavior or observed=True to adopt the future default and silence this warning.\n",
      "  max_viewers = viewers_by_fetch.groupby('video')['viewers_count'].max()\n"
     ]
    }
   ],
   "source": [
    "viewers_threshold = 1000\n",
    "max_viewers = viewers_by_fetch.groupby('video')['viewers_count'].max()\n",
    "videos_with_high_viewers = max_viewers[max_viewers >= viewers_threshold].index\n",
    "videos_with_high_viewers = viewers_by_fetch[viewers_by_fetch['video'].isin(videos_with_high_viewers)]\n",
    "videos_with_high_viewers = videos_with_high_viewers.sort_values(by=['video', 'refresh_time'])"
   ]
  },
  {
   "cell_type": "code",
   "execution_count": 16,
   "metadata": {},
   "outputs": [],
   "source": [
    "# get one video of videos_with_high_viewers\n",
    "video = videos_with_high_viewers['video'].iloc[0]\n",
    "video_viewers = videos_with_high_viewers[videos_with_high_viewers['video'] == video][['refresh_time', 'viewers_count']]\n",
    "video_viewers = video_viewers.set_index('refresh_time')"
   ]
  },
  {
   "cell_type": "code",
   "execution_count": null,
   "metadata": {},
   "outputs": [],
   "source": [
    "user_events = {\n",
    "    \"event\": [],\n",
    "    \"id\": []\n",
    "}\n",
    "\n",
    "def generate_uuid():\n",
    "    return str(uuid.uuid5())\n",
    "\n",
    "publisher_id = None\n",
    "viewers_ids = []\n",
    "for i in range(0, len(video_viewers)):\n",
    "    if i == 0:\n",
    "        user_events[\"event\"].append(0)\n",
    "        publisher_id = generate_uuid()\n",
    "        user_events[\"id\"].append(publisher_id)\n",
    "    elif i == len(video_viewers) - 1:\n",
    "        user_events[\"event\"].append(2)\n",
    "        user_events[\"id\"].append(publisher_id)\n",
    "    else:\n",
    "        user_events[\"event\"].append(1)\n",
    "        user_events[\"id\"].append(video_viewers.index[i])"
   ]
  }
 ],
 "metadata": {
  "kernelspec": {
   "display_name": "Python 3",
   "language": "python",
   "name": "python3"
  },
  "language_info": {
   "codemirror_mode": {
    "name": "ipython",
    "version": 3
   },
   "file_extension": ".py",
   "mimetype": "text/x-python",
   "name": "python",
   "nbconvert_exporter": "python",
   "pygments_lexer": "ipython3",
   "version": "3.11.9"
  }
 },
 "nbformat": 4,
 "nbformat_minor": 2
}
